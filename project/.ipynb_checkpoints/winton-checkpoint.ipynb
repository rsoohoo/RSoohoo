{
 "cells": [
  {
   "cell_type": "code",
   "execution_count": 5,
   "metadata": {
    "collapsed": false
   },
   "outputs": [
    {
     "data": {
      "text/html": [
       "<div>\n",
       "<table border=\"1\" class=\"dataframe\">\n",
       "  <thead>\n",
       "    <tr style=\"text-align: right;\">\n",
       "      <th></th>\n",
       "      <th>Id</th>\n",
       "      <th>Feature_1</th>\n",
       "      <th>Feature_2</th>\n",
       "      <th>Feature_3</th>\n",
       "      <th>Feature_4</th>\n",
       "      <th>Feature_5</th>\n",
       "      <th>Feature_6</th>\n",
       "      <th>Feature_7</th>\n",
       "      <th>Feature_8</th>\n",
       "      <th>Feature_9</th>\n",
       "      <th>...</th>\n",
       "      <th>Ret_111</th>\n",
       "      <th>Ret_112</th>\n",
       "      <th>Ret_113</th>\n",
       "      <th>Ret_114</th>\n",
       "      <th>Ret_115</th>\n",
       "      <th>Ret_116</th>\n",
       "      <th>Ret_117</th>\n",
       "      <th>Ret_118</th>\n",
       "      <th>Ret_119</th>\n",
       "      <th>Ret_120</th>\n",
       "    </tr>\n",
       "  </thead>\n",
       "  <tbody>\n",
       "    <tr>\n",
       "      <th>0</th>\n",
       "      <td>1</td>\n",
       "      <td>NaN</td>\n",
       "      <td>-0.479347</td>\n",
       "      <td>0.716679</td>\n",
       "      <td>0.765301</td>\n",
       "      <td>6</td>\n",
       "      <td>NaN</td>\n",
       "      <td>36450</td>\n",
       "      <td>0.2064</td>\n",
       "      <td>14</td>\n",
       "      <td>...</td>\n",
       "      <td>-0.000135</td>\n",
       "      <td>-0.000002</td>\n",
       "      <td>-0.000144</td>\n",
       "      <td>0.000931</td>\n",
       "      <td>0.000280</td>\n",
       "      <td>0.000796</td>\n",
       "      <td>-0.000272</td>\n",
       "      <td>-0.000683</td>\n",
       "      <td>0.002010</td>\n",
       "      <td>-0.001187</td>\n",
       "    </tr>\n",
       "    <tr>\n",
       "      <th>1</th>\n",
       "      <td>2</td>\n",
       "      <td>NaN</td>\n",
       "      <td>-1.556631</td>\n",
       "      <td>-0.544329</td>\n",
       "      <td>-0.041571</td>\n",
       "      <td>2</td>\n",
       "      <td>-0.401548</td>\n",
       "      <td>77624</td>\n",
       "      <td>0.3418</td>\n",
       "      <td>10</td>\n",
       "      <td>...</td>\n",
       "      <td>-0.000384</td>\n",
       "      <td>-0.000382</td>\n",
       "      <td>0.000387</td>\n",
       "      <td>0.000392</td>\n",
       "      <td>0.001579</td>\n",
       "      <td>-0.000019</td>\n",
       "      <td>0.000803</td>\n",
       "      <td>0.000001</td>\n",
       "      <td>-0.000002</td>\n",
       "      <td>-0.002382</td>\n",
       "    </tr>\n",
       "    <tr>\n",
       "      <th>2</th>\n",
       "      <td>3</td>\n",
       "      <td>NaN</td>\n",
       "      <td>-1.124463</td>\n",
       "      <td>0.750519</td>\n",
       "      <td>0.801993</td>\n",
       "      <td>8</td>\n",
       "      <td>0.463234</td>\n",
       "      <td>44942</td>\n",
       "      <td>0.0166</td>\n",
       "      <td>11</td>\n",
       "      <td>...</td>\n",
       "      <td>-0.000013</td>\n",
       "      <td>0.000801</td>\n",
       "      <td>-0.000278</td>\n",
       "      <td>-0.000255</td>\n",
       "      <td>0.000534</td>\n",
       "      <td>0.000272</td>\n",
       "      <td>-0.000778</td>\n",
       "      <td>0.001060</td>\n",
       "      <td>0.000010</td>\n",
       "      <td>-0.000805</td>\n",
       "    </tr>\n",
       "    <tr>\n",
       "      <th>3</th>\n",
       "      <td>4</td>\n",
       "      <td>NaN</td>\n",
       "      <td>2.404529</td>\n",
       "      <td>1.371021</td>\n",
       "      <td>1.135463</td>\n",
       "      <td>1</td>\n",
       "      <td>3.470399</td>\n",
       "      <td>35071</td>\n",
       "      <td>0.2208</td>\n",
       "      <td>12</td>\n",
       "      <td>...</td>\n",
       "      <td>-0.002180</td>\n",
       "      <td>0.000206</td>\n",
       "      <td>-0.000053</td>\n",
       "      <td>-0.002894</td>\n",
       "      <td>-0.003772</td>\n",
       "      <td>0.001737</td>\n",
       "      <td>0.003756</td>\n",
       "      <td>-0.000863</td>\n",
       "      <td>-0.000873</td>\n",
       "      <td>-0.000302</td>\n",
       "    </tr>\n",
       "    <tr>\n",
       "      <th>4</th>\n",
       "      <td>5</td>\n",
       "      <td>1</td>\n",
       "      <td>0.180297</td>\n",
       "      <td>-0.107651</td>\n",
       "      <td>-0.272008</td>\n",
       "      <td>8</td>\n",
       "      <td>0.198879</td>\n",
       "      <td>1188</td>\n",
       "      <td>0.2254</td>\n",
       "      <td>NaN</td>\n",
       "      <td>...</td>\n",
       "      <td>-0.000204</td>\n",
       "      <td>0.000176</td>\n",
       "      <td>-0.000204</td>\n",
       "      <td>NaN</td>\n",
       "      <td>-0.000004</td>\n",
       "      <td>0.000026</td>\n",
       "      <td>0.000201</td>\n",
       "      <td>0.000004</td>\n",
       "      <td>NaN</td>\n",
       "      <td>0.000007</td>\n",
       "    </tr>\n",
       "  </tbody>\n",
       "</table>\n",
       "<p>5 rows × 147 columns</p>\n",
       "</div>"
      ],
      "text/plain": [
       "   Id  Feature_1  Feature_2  Feature_3  Feature_4  Feature_5  Feature_6  \\\n",
       "0   1        NaN  -0.479347   0.716679   0.765301          6        NaN   \n",
       "1   2        NaN  -1.556631  -0.544329  -0.041571          2  -0.401548   \n",
       "2   3        NaN  -1.124463   0.750519   0.801993          8   0.463234   \n",
       "3   4        NaN   2.404529   1.371021   1.135463          1   3.470399   \n",
       "4   5          1   0.180297  -0.107651  -0.272008          8   0.198879   \n",
       "\n",
       "   Feature_7  Feature_8  Feature_9    ...      Ret_111   Ret_112   Ret_113  \\\n",
       "0      36450     0.2064         14    ...    -0.000135 -0.000002 -0.000144   \n",
       "1      77624     0.3418         10    ...    -0.000384 -0.000382  0.000387   \n",
       "2      44942     0.0166         11    ...    -0.000013  0.000801 -0.000278   \n",
       "3      35071     0.2208         12    ...    -0.002180  0.000206 -0.000053   \n",
       "4       1188     0.2254        NaN    ...    -0.000204  0.000176 -0.000204   \n",
       "\n",
       "    Ret_114   Ret_115   Ret_116   Ret_117   Ret_118   Ret_119   Ret_120  \n",
       "0  0.000931  0.000280  0.000796 -0.000272 -0.000683  0.002010 -0.001187  \n",
       "1  0.000392  0.001579 -0.000019  0.000803  0.000001 -0.000002 -0.002382  \n",
       "2 -0.000255  0.000534  0.000272 -0.000778  0.001060  0.000010 -0.000805  \n",
       "3 -0.002894 -0.003772  0.001737  0.003756 -0.000863 -0.000873 -0.000302  \n",
       "4       NaN -0.000004  0.000026  0.000201  0.000004       NaN  0.000007  \n",
       "\n",
       "[5 rows x 147 columns]"
      ]
     },
     "execution_count": 5,
     "metadata": {},
     "output_type": "execute_result"
    }
   ],
   "source": [
    "# Imports\n",
    "import numpy as np\n",
    "import pandas as pd\n",
    "\n",
    "# Load the data in\n",
    "testset = pd.read_csv(\"C:\\\\Users\\\\rs\\\\Desktop\\\\data science project\\\\test.csv\\\\test.csv\")\n",
    "# Take a look\n",
    "testset.head()"
   ]
  },
  {
   "cell_type": "code",
   "execution_count": null,
   "metadata": {
    "collapsed": true
   },
   "outputs": [],
   "source": [
    "# Load the data in\n",
    "train = pd.read_csv(\"C:\\\\Users\\\\rs\\\\Desktop\\\\data science project\\\\train.csv\\\\train.csv\")\n",
    "# Take a look\n",
    "trai.head()"
   ]
  },
  {
   "cell_type": "code",
   "execution_count": null,
   "metadata": {
    "collapsed": true
   },
   "outputs": [],
   "source": []
  },
  {
   "cell_type": "code",
   "execution_count": 6,
   "metadata": {
    "collapsed": false
   },
   "outputs": [
    {
     "data": {
      "text/plain": [
       "Index([u'Id', u'Feature_1', u'Feature_2', u'Feature_3', u'Feature_4',\n",
       "       u'Feature_5', u'Feature_6', u'Feature_7', u'Feature_8', u'Feature_9',\n",
       "       ...\n",
       "       u'Ret_111', u'Ret_112', u'Ret_113', u'Ret_114', u'Ret_115', u'Ret_116',\n",
       "       u'Ret_117', u'Ret_118', u'Ret_119', u'Ret_120'],\n",
       "      dtype='object', length=147)"
      ]
     },
     "execution_count": 6,
     "metadata": {},
     "output_type": "execute_result"
    }
   ],
   "source": [
    "testset.columns"
   ]
  },
  {
   "cell_type": "code",
   "execution_count": 7,
   "metadata": {
    "collapsed": false
   },
   "outputs": [
    {
     "data": {
      "text/plain": [
       "Index([u'Id', u'Feature_1', u'Feature_2', u'Feature_3', u'Feature_4',\n",
       "       u'Feature_5', u'Feature_6', u'Feature_7', u'Feature_8', u'Feature_9',\n",
       "       ...\n",
       "       u'Ret_111', u'Ret_112', u'Ret_113', u'Ret_114', u'Ret_115', u'Ret_116',\n",
       "       u'Ret_117', u'Ret_118', u'Ret_119', u'Ret_120'],\n",
       "      dtype='object', length=147)"
      ]
     },
     "execution_count": 7,
     "metadata": {},
     "output_type": "execute_result"
    }
   ],
   "source": [
    "testset.columns = testset.columns.map(str.strip)\n",
    "testset.columns"
   ]
  },
  {
   "cell_type": "code",
   "execution_count": null,
   "metadata": {
    "collapsed": true
   },
   "outputs": [],
   "source": []
  }
 ],
 "metadata": {
  "kernelspec": {
   "display_name": "Python 2",
   "language": "python",
   "name": "python2"
  },
  "language_info": {
   "codemirror_mode": {
    "name": "ipython",
    "version": 2
   },
   "file_extension": ".py",
   "mimetype": "text/x-python",
   "name": "python",
   "nbconvert_exporter": "python",
   "pygments_lexer": "ipython2",
   "version": "2.7.10"
  }
 },
 "nbformat": 4,
 "nbformat_minor": 0
}
