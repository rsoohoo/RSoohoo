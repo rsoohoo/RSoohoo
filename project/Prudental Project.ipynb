{
 "cells": [
  {
   "cell_type": "code",
   "execution_count": 4,
   "metadata": {
    "collapsed": true
   },
   "outputs": [],
   "source": [
    "%matplotlib inline"
   ]
  },
  {
   "cell_type": "code",
   "execution_count": 5,
   "metadata": {
    "collapsed": false
   },
   "outputs": [],
   "source": [
    "# Imports\n",
    "\n",
    "# pandas\n",
    "import pandas as pd\n",
    "from pandas import Series,DataFrame\n",
    "\n",
    "# numpy, matplotlib, seaborn\n",
    "import numpy as np\n",
    "import matplotlib.pyplot as plt\n",
    "import seaborn as sns\n",
    "sns.set_style('whitegrid')\n",
    "%matplotlib inline\n",
    "\n",
    "# machine learning\n",
    "from sklearn.linear_model import LogisticRegression\n",
    "from sklearn.svm import SVC, LinearSVC\n",
    "from sklearn.ensemble import RandomForestClassifier\n",
    "from sklearn.neighbors import KNeighborsClassifier\n",
    "from sklearn.naive_bayes import GaussianNB\n",
    "from sklearn import cross_validation\n"
   ]
  },
  {
   "cell_type": "code",
   "execution_count": 6,
   "metadata": {
    "collapsed": false
   },
   "outputs": [
    {
     "data": {
      "text/html": [
       "<div>\n",
       "<table border=\"1\" class=\"dataframe\">\n",
       "  <thead>\n",
       "    <tr style=\"text-align: right;\">\n",
       "      <th></th>\n",
       "      <th>Id</th>\n",
       "      <th>Product_Info_1</th>\n",
       "      <th>Product_Info_2</th>\n",
       "      <th>Product_Info_3</th>\n",
       "      <th>Product_Info_4</th>\n",
       "      <th>Product_Info_5</th>\n",
       "      <th>Product_Info_6</th>\n",
       "      <th>Product_Info_7</th>\n",
       "      <th>Ins_Age</th>\n",
       "      <th>Ht</th>\n",
       "      <th>...</th>\n",
       "      <th>Medical_Keyword_39</th>\n",
       "      <th>Medical_Keyword_40</th>\n",
       "      <th>Medical_Keyword_41</th>\n",
       "      <th>Medical_Keyword_42</th>\n",
       "      <th>Medical_Keyword_43</th>\n",
       "      <th>Medical_Keyword_44</th>\n",
       "      <th>Medical_Keyword_45</th>\n",
       "      <th>Medical_Keyword_46</th>\n",
       "      <th>Medical_Keyword_47</th>\n",
       "      <th>Medical_Keyword_48</th>\n",
       "    </tr>\n",
       "  </thead>\n",
       "  <tbody>\n",
       "    <tr>\n",
       "      <th>0</th>\n",
       "      <td>1</td>\n",
       "      <td>1</td>\n",
       "      <td>D3</td>\n",
       "      <td>26</td>\n",
       "      <td>0.487179</td>\n",
       "      <td>2</td>\n",
       "      <td>3</td>\n",
       "      <td>1</td>\n",
       "      <td>0.611940</td>\n",
       "      <td>0.781818</td>\n",
       "      <td>...</td>\n",
       "      <td>0</td>\n",
       "      <td>0</td>\n",
       "      <td>0</td>\n",
       "      <td>0</td>\n",
       "      <td>0</td>\n",
       "      <td>0</td>\n",
       "      <td>0</td>\n",
       "      <td>0</td>\n",
       "      <td>0</td>\n",
       "      <td>0</td>\n",
       "    </tr>\n",
       "    <tr>\n",
       "      <th>1</th>\n",
       "      <td>3</td>\n",
       "      <td>1</td>\n",
       "      <td>A2</td>\n",
       "      <td>26</td>\n",
       "      <td>0.076923</td>\n",
       "      <td>2</td>\n",
       "      <td>3</td>\n",
       "      <td>1</td>\n",
       "      <td>0.626866</td>\n",
       "      <td>0.727273</td>\n",
       "      <td>...</td>\n",
       "      <td>0</td>\n",
       "      <td>0</td>\n",
       "      <td>0</td>\n",
       "      <td>0</td>\n",
       "      <td>0</td>\n",
       "      <td>0</td>\n",
       "      <td>0</td>\n",
       "      <td>0</td>\n",
       "      <td>0</td>\n",
       "      <td>0</td>\n",
       "    </tr>\n",
       "    <tr>\n",
       "      <th>2</th>\n",
       "      <td>4</td>\n",
       "      <td>1</td>\n",
       "      <td>D3</td>\n",
       "      <td>26</td>\n",
       "      <td>0.144667</td>\n",
       "      <td>2</td>\n",
       "      <td>3</td>\n",
       "      <td>1</td>\n",
       "      <td>0.582090</td>\n",
       "      <td>0.709091</td>\n",
       "      <td>...</td>\n",
       "      <td>0</td>\n",
       "      <td>0</td>\n",
       "      <td>0</td>\n",
       "      <td>0</td>\n",
       "      <td>0</td>\n",
       "      <td>0</td>\n",
       "      <td>0</td>\n",
       "      <td>0</td>\n",
       "      <td>0</td>\n",
       "      <td>0</td>\n",
       "    </tr>\n",
       "    <tr>\n",
       "      <th>3</th>\n",
       "      <td>9</td>\n",
       "      <td>1</td>\n",
       "      <td>A1</td>\n",
       "      <td>26</td>\n",
       "      <td>0.151709</td>\n",
       "      <td>2</td>\n",
       "      <td>1</td>\n",
       "      <td>1</td>\n",
       "      <td>0.522388</td>\n",
       "      <td>0.654545</td>\n",
       "      <td>...</td>\n",
       "      <td>0</td>\n",
       "      <td>0</td>\n",
       "      <td>0</td>\n",
       "      <td>0</td>\n",
       "      <td>0</td>\n",
       "      <td>0</td>\n",
       "      <td>0</td>\n",
       "      <td>0</td>\n",
       "      <td>1</td>\n",
       "      <td>1</td>\n",
       "    </tr>\n",
       "    <tr>\n",
       "      <th>4</th>\n",
       "      <td>12</td>\n",
       "      <td>1</td>\n",
       "      <td>A1</td>\n",
       "      <td>26</td>\n",
       "      <td>0.076923</td>\n",
       "      <td>2</td>\n",
       "      <td>3</td>\n",
       "      <td>1</td>\n",
       "      <td>0.298507</td>\n",
       "      <td>0.672727</td>\n",
       "      <td>...</td>\n",
       "      <td>0</td>\n",
       "      <td>0</td>\n",
       "      <td>0</td>\n",
       "      <td>0</td>\n",
       "      <td>0</td>\n",
       "      <td>0</td>\n",
       "      <td>0</td>\n",
       "      <td>0</td>\n",
       "      <td>0</td>\n",
       "      <td>0</td>\n",
       "    </tr>\n",
       "  </tbody>\n",
       "</table>\n",
       "<p>5 rows × 127 columns</p>\n",
       "</div>"
      ],
      "text/plain": [
       "   Id  Product_Info_1 Product_Info_2  Product_Info_3  Product_Info_4  \\\n",
       "0   1               1             D3              26        0.487179   \n",
       "1   3               1             A2              26        0.076923   \n",
       "2   4               1             D3              26        0.144667   \n",
       "3   9               1             A1              26        0.151709   \n",
       "4  12               1             A1              26        0.076923   \n",
       "\n",
       "   Product_Info_5  Product_Info_6  Product_Info_7   Ins_Age        Ht  \\\n",
       "0               2               3               1  0.611940  0.781818   \n",
       "1               2               3               1  0.626866  0.727273   \n",
       "2               2               3               1  0.582090  0.709091   \n",
       "3               2               1               1  0.522388  0.654545   \n",
       "4               2               3               1  0.298507  0.672727   \n",
       "\n",
       "          ...          Medical_Keyword_39  Medical_Keyword_40  \\\n",
       "0         ...                           0                   0   \n",
       "1         ...                           0                   0   \n",
       "2         ...                           0                   0   \n",
       "3         ...                           0                   0   \n",
       "4         ...                           0                   0   \n",
       "\n",
       "   Medical_Keyword_41  Medical_Keyword_42  Medical_Keyword_43  \\\n",
       "0                   0                   0                   0   \n",
       "1                   0                   0                   0   \n",
       "2                   0                   0                   0   \n",
       "3                   0                   0                   0   \n",
       "4                   0                   0                   0   \n",
       "\n",
       "   Medical_Keyword_44  Medical_Keyword_45  Medical_Keyword_46  \\\n",
       "0                   0                   0                   0   \n",
       "1                   0                   0                   0   \n",
       "2                   0                   0                   0   \n",
       "3                   0                   0                   0   \n",
       "4                   0                   0                   0   \n",
       "\n",
       "   Medical_Keyword_47  Medical_Keyword_48  \n",
       "0                   0                   0  \n",
       "1                   0                   0  \n",
       "2                   0                   0  \n",
       "3                   1                   1  \n",
       "4                   0                   0  \n",
       "\n",
       "[5 rows x 127 columns]"
      ]
     },
     "execution_count": 6,
     "metadata": {},
     "output_type": "execute_result"
    }
   ],
   "source": [
    "# Load the data in test csv, create test set \n",
    "testcsv = pd.read_csv(\"C:\\\\Users\\\\rs\\\\Desktop\\\\prudential\\\\test\\\\test.csv\")\n",
    "# Take a look\n",
    "testcsv.head()"
   ]
  },
  {
   "cell_type": "code",
   "execution_count": 7,
   "metadata": {
    "collapsed": false
   },
   "outputs": [
    {
     "data": {
      "text/html": [
       "<div>\n",
       "<table border=\"1\" class=\"dataframe\">\n",
       "  <thead>\n",
       "    <tr style=\"text-align: right;\">\n",
       "      <th></th>\n",
       "      <th>Id</th>\n",
       "      <th>Product_Info_1</th>\n",
       "      <th>Product_Info_2</th>\n",
       "      <th>Product_Info_3</th>\n",
       "      <th>Product_Info_4</th>\n",
       "      <th>Product_Info_5</th>\n",
       "      <th>Product_Info_6</th>\n",
       "      <th>Product_Info_7</th>\n",
       "      <th>Ins_Age</th>\n",
       "      <th>Ht</th>\n",
       "      <th>...</th>\n",
       "      <th>Medical_Keyword_40</th>\n",
       "      <th>Medical_Keyword_41</th>\n",
       "      <th>Medical_Keyword_42</th>\n",
       "      <th>Medical_Keyword_43</th>\n",
       "      <th>Medical_Keyword_44</th>\n",
       "      <th>Medical_Keyword_45</th>\n",
       "      <th>Medical_Keyword_46</th>\n",
       "      <th>Medical_Keyword_47</th>\n",
       "      <th>Medical_Keyword_48</th>\n",
       "      <th>Response</th>\n",
       "    </tr>\n",
       "  </thead>\n",
       "  <tbody>\n",
       "    <tr>\n",
       "      <th>0</th>\n",
       "      <td>2</td>\n",
       "      <td>1</td>\n",
       "      <td>D3</td>\n",
       "      <td>10</td>\n",
       "      <td>0.076923</td>\n",
       "      <td>2</td>\n",
       "      <td>1</td>\n",
       "      <td>1</td>\n",
       "      <td>0.641791</td>\n",
       "      <td>0.581818</td>\n",
       "      <td>...</td>\n",
       "      <td>0</td>\n",
       "      <td>0</td>\n",
       "      <td>0</td>\n",
       "      <td>0</td>\n",
       "      <td>0</td>\n",
       "      <td>0</td>\n",
       "      <td>0</td>\n",
       "      <td>0</td>\n",
       "      <td>0</td>\n",
       "      <td>8</td>\n",
       "    </tr>\n",
       "    <tr>\n",
       "      <th>1</th>\n",
       "      <td>5</td>\n",
       "      <td>1</td>\n",
       "      <td>A1</td>\n",
       "      <td>26</td>\n",
       "      <td>0.076923</td>\n",
       "      <td>2</td>\n",
       "      <td>3</td>\n",
       "      <td>1</td>\n",
       "      <td>0.059701</td>\n",
       "      <td>0.600000</td>\n",
       "      <td>...</td>\n",
       "      <td>0</td>\n",
       "      <td>0</td>\n",
       "      <td>0</td>\n",
       "      <td>0</td>\n",
       "      <td>0</td>\n",
       "      <td>0</td>\n",
       "      <td>0</td>\n",
       "      <td>0</td>\n",
       "      <td>0</td>\n",
       "      <td>4</td>\n",
       "    </tr>\n",
       "    <tr>\n",
       "      <th>2</th>\n",
       "      <td>6</td>\n",
       "      <td>1</td>\n",
       "      <td>E1</td>\n",
       "      <td>26</td>\n",
       "      <td>0.076923</td>\n",
       "      <td>2</td>\n",
       "      <td>3</td>\n",
       "      <td>1</td>\n",
       "      <td>0.029851</td>\n",
       "      <td>0.745455</td>\n",
       "      <td>...</td>\n",
       "      <td>0</td>\n",
       "      <td>0</td>\n",
       "      <td>0</td>\n",
       "      <td>0</td>\n",
       "      <td>0</td>\n",
       "      <td>0</td>\n",
       "      <td>0</td>\n",
       "      <td>0</td>\n",
       "      <td>0</td>\n",
       "      <td>8</td>\n",
       "    </tr>\n",
       "    <tr>\n",
       "      <th>3</th>\n",
       "      <td>7</td>\n",
       "      <td>1</td>\n",
       "      <td>D4</td>\n",
       "      <td>10</td>\n",
       "      <td>0.487179</td>\n",
       "      <td>2</td>\n",
       "      <td>3</td>\n",
       "      <td>1</td>\n",
       "      <td>0.164179</td>\n",
       "      <td>0.672727</td>\n",
       "      <td>...</td>\n",
       "      <td>0</td>\n",
       "      <td>0</td>\n",
       "      <td>0</td>\n",
       "      <td>0</td>\n",
       "      <td>0</td>\n",
       "      <td>0</td>\n",
       "      <td>0</td>\n",
       "      <td>0</td>\n",
       "      <td>0</td>\n",
       "      <td>8</td>\n",
       "    </tr>\n",
       "    <tr>\n",
       "      <th>4</th>\n",
       "      <td>8</td>\n",
       "      <td>1</td>\n",
       "      <td>D2</td>\n",
       "      <td>26</td>\n",
       "      <td>0.230769</td>\n",
       "      <td>2</td>\n",
       "      <td>3</td>\n",
       "      <td>1</td>\n",
       "      <td>0.417910</td>\n",
       "      <td>0.654545</td>\n",
       "      <td>...</td>\n",
       "      <td>0</td>\n",
       "      <td>0</td>\n",
       "      <td>0</td>\n",
       "      <td>0</td>\n",
       "      <td>0</td>\n",
       "      <td>0</td>\n",
       "      <td>0</td>\n",
       "      <td>0</td>\n",
       "      <td>0</td>\n",
       "      <td>8</td>\n",
       "    </tr>\n",
       "  </tbody>\n",
       "</table>\n",
       "<p>5 rows × 128 columns</p>\n",
       "</div>"
      ],
      "text/plain": [
       "   Id  Product_Info_1 Product_Info_2  Product_Info_3  Product_Info_4  \\\n",
       "0   2               1             D3              10        0.076923   \n",
       "1   5               1             A1              26        0.076923   \n",
       "2   6               1             E1              26        0.076923   \n",
       "3   7               1             D4              10        0.487179   \n",
       "4   8               1             D2              26        0.230769   \n",
       "\n",
       "   Product_Info_5  Product_Info_6  Product_Info_7   Ins_Age        Ht  \\\n",
       "0               2               1               1  0.641791  0.581818   \n",
       "1               2               3               1  0.059701  0.600000   \n",
       "2               2               3               1  0.029851  0.745455   \n",
       "3               2               3               1  0.164179  0.672727   \n",
       "4               2               3               1  0.417910  0.654545   \n",
       "\n",
       "     ...     Medical_Keyword_40  Medical_Keyword_41  Medical_Keyword_42  \\\n",
       "0    ...                      0                   0                   0   \n",
       "1    ...                      0                   0                   0   \n",
       "2    ...                      0                   0                   0   \n",
       "3    ...                      0                   0                   0   \n",
       "4    ...                      0                   0                   0   \n",
       "\n",
       "   Medical_Keyword_43  Medical_Keyword_44  Medical_Keyword_45  \\\n",
       "0                   0                   0                   0   \n",
       "1                   0                   0                   0   \n",
       "2                   0                   0                   0   \n",
       "3                   0                   0                   0   \n",
       "4                   0                   0                   0   \n",
       "\n",
       "   Medical_Keyword_46  Medical_Keyword_47  Medical_Keyword_48  Response  \n",
       "0                   0                   0                   0         8  \n",
       "1                   0                   0                   0         4  \n",
       "2                   0                   0                   0         8  \n",
       "3                   0                   0                   0         8  \n",
       "4                   0                   0                   0         8  \n",
       "\n",
       "[5 rows x 128 columns]"
      ]
     },
     "execution_count": 7,
     "metadata": {},
     "output_type": "execute_result"
    }
   ],
   "source": [
    "# Load the data in\n",
    "traincsv = pd.read_csv(\"C:\\\\Users\\\\rs\\\\Desktop\\\\prudential\\\\trainset\\\\train.csv\")\n",
    "# Take a look\n",
    "traincsv.head()"
   ]
  },
  {
   "cell_type": "code",
   "execution_count": 8,
   "metadata": {
    "collapsed": false
   },
   "outputs": [
    {
     "data": {
      "text/plain": [
       "<matplotlib.axes._subplots.AxesSubplot at 0x1f292b38>"
      ]
     },
     "execution_count": 8,
     "metadata": {},
     "output_type": "execute_result"
    },
    {
     "data": {
      "image/png": "[encoded data removed]",
      "text/plain": [
       "<matplotlib.figure.Figure at 0x99e34e0>"
      ]
     },
     "metadata": {},
     "output_type": "display_data"
    }
   ],
   "source": [
    "# find the number of users who answered the response rating from 1-8, that excludes the ones with the nan response\n",
    "sns.countplot(x='Response',data=traincsv,palette=\"husl\", order = range(1,9))"
   ]
  },
  {
   "cell_type": "code",
   "execution_count": 9,
   "metadata": {
    "collapsed": false
   },
   "outputs": [
    {
     "data": {
      "text/plain": [
       "Id                       int64\n",
       "Product_Info_1           int64\n",
       "Product_Info_2          object\n",
       "Product_Info_3           int64\n",
       "Product_Info_4         float64\n",
       "Product_Info_5           int64\n",
       "Product_Info_6           int64\n",
       "Product_Info_7           int64\n",
       "Ins_Age                float64\n",
       "Ht                     float64\n",
       "Wt                     float64\n",
       "BMI                    float64\n",
       "Employment_Info_1      float64\n",
       "Employment_Info_2        int64\n",
       "Employment_Info_3        int64\n",
       "Employment_Info_4      float64\n",
       "Employment_Info_5        int64\n",
       "Employment_Info_6      float64\n",
       "InsuredInfo_1            int64\n",
       "InsuredInfo_2            int64\n",
       "InsuredInfo_3            int64\n",
       "InsuredInfo_4            int64\n",
       "InsuredInfo_5            int64\n",
       "InsuredInfo_6            int64\n",
       "InsuredInfo_7            int64\n",
       "Insurance_History_1      int64\n",
       "Insurance_History_2      int64\n",
       "Insurance_History_3      int64\n",
       "Insurance_History_4      int64\n",
       "Insurance_History_5    float64\n",
       "                        ...   \n",
       "Medical_Keyword_19       int64\n",
       "Medical_Keyword_20       int64\n",
       "Medical_Keyword_21       int64\n",
       "Medical_Keyword_22       int64\n",
       "Medical_Keyword_23       int64\n",
       "Medical_Keyword_24       int64\n",
       "Medical_Keyword_25       int64\n",
       "Medical_Keyword_26       int64\n",
       "Medical_Keyword_27       int64\n",
       "Medical_Keyword_28       int64\n",
       "Medical_Keyword_29       int64\n",
       "Medical_Keyword_30       int64\n",
       "Medical_Keyword_31       int64\n",
       "Medical_Keyword_32       int64\n",
       "Medical_Keyword_33       int64\n",
       "Medical_Keyword_34       int64\n",
       "Medical_Keyword_35       int64\n",
       "Medical_Keyword_36       int64\n",
       "Medical_Keyword_37       int64\n",
       "Medical_Keyword_38       int64\n",
       "Medical_Keyword_39       int64\n",
       "Medical_Keyword_40       int64\n",
       "Medical_Keyword_41       int64\n",
       "Medical_Keyword_42       int64\n",
       "Medical_Keyword_43       int64\n",
       "Medical_Keyword_44       int64\n",
       "Medical_Keyword_45       int64\n",
       "Medical_Keyword_46       int64\n",
       "Medical_Keyword_47       int64\n",
       "Medical_Keyword_48       int64\n",
       "dtype: object"
      ]
     },
     "execution_count": 9,
     "metadata": {},
     "output_type": "execute_result"
    }
   ],
   "source": [
    "testcsv.dtypes"
   ]
  },
  {
   "cell_type": "code",
   "execution_count": 10,
   "metadata": {
    "collapsed": false
   },
   "outputs": [
    {
     "data": {
      "text/plain": [
       "Id                       int64\n",
       "Product_Info_1           int64\n",
       "Product_Info_2          object\n",
       "Product_Info_3           int64\n",
       "Product_Info_4         float64\n",
       "Product_Info_5           int64\n",
       "Product_Info_6           int64\n",
       "Product_Info_7           int64\n",
       "Ins_Age                float64\n",
       "Ht                     float64\n",
       "Wt                     float64\n",
       "BMI                    float64\n",
       "Employment_Info_1      float64\n",
       "Employment_Info_2        int64\n",
       "Employment_Info_3        int64\n",
       "Employment_Info_4      float64\n",
       "Employment_Info_5        int64\n",
       "Employment_Info_6      float64\n",
       "InsuredInfo_1            int64\n",
       "InsuredInfo_2            int64\n",
       "InsuredInfo_3            int64\n",
       "InsuredInfo_4            int64\n",
       "InsuredInfo_5            int64\n",
       "InsuredInfo_6            int64\n",
       "InsuredInfo_7            int64\n",
       "Insurance_History_1      int64\n",
       "Insurance_History_2      int64\n",
       "Insurance_History_3      int64\n",
       "Insurance_History_4      int64\n",
       "Insurance_History_5    float64\n",
       "                        ...   \n",
       "Medical_Keyword_20       int64\n",
       "Medical_Keyword_21       int64\n",
       "Medical_Keyword_22       int64\n",
       "Medical_Keyword_23       int64\n",
       "Medical_Keyword_24       int64\n",
       "Medical_Keyword_25       int64\n",
       "Medical_Keyword_26       int64\n",
       "Medical_Keyword_27       int64\n",
       "Medical_Keyword_28       int64\n",
       "Medical_Keyword_29       int64\n",
       "Medical_Keyword_30       int64\n",
       "Medical_Keyword_31       int64\n",
       "Medical_Keyword_32       int64\n",
       "Medical_Keyword_33       int64\n",
       "Medical_Keyword_34       int64\n",
       "Medical_Keyword_35       int64\n",
       "Medical_Keyword_36       int64\n",
       "Medical_Keyword_37       int64\n",
       "Medical_Keyword_38       int64\n",
       "Medical_Keyword_39       int64\n",
       "Medical_Keyword_40       int64\n",
       "Medical_Keyword_41       int64\n",
       "Medical_Keyword_42       int64\n",
       "Medical_Keyword_43       int64\n",
       "Medical_Keyword_44       int64\n",
       "Medical_Keyword_45       int64\n",
       "Medical_Keyword_46       int64\n",
       "Medical_Keyword_47       int64\n",
       "Medical_Keyword_48       int64\n",
       "Response                 int64\n",
       "dtype: object"
      ]
     },
     "execution_count": 10,
     "metadata": {},
     "output_type": "execute_result"
    }
   ],
   "source": [
    "traincsv.dtypes"
   ]
  },
  {
   "cell_type": "code",
   "execution_count": 11,
   "metadata": {
    "collapsed": false
   },
   "outputs": [
    {
     "name": "stdout",
     "output_type": "stream",
     "text": [
      "<class 'pandas.core.frame.DataFrame'>\n",
      "Int64Index: 59381 entries, 0 to 59380\n",
      "Columns: 128 entries, Id to Response\n",
      "dtypes: float64(18), int64(109), object(1)\n",
      "memory usage: 58.4+ MB\n"
     ]
    }
   ],
   "source": [
    "traincsv.info()"
   ]
  },
  {
   "cell_type": "code",
   "execution_count": 13,
   "metadata": {
    "collapsed": false
   },
   "outputs": [
    {
     "data": {
      "text/plain": [
       "<matplotlib.axes._subplots.AxesSubplot at 0x21837748>"
      ]
     },
     "execution_count": 13,
     "metadata": {},
     "output_type": "execute_result"
    },
    {
     "data": {
      "image/png": "[encoded data removed]",
      "text/plain": [
       "<matplotlib.figure.Figure at 0x2185fb70>"
      ]
     },
     "metadata": {},
     "output_type": "display_data"
    }
   ],
   "source": [
    "# answer response variable on test set\n",
    "\n",
    "fig, (axis1) = plt.subplots(1,1,figsize=(15,5))\n",
    "\n",
    "sns.countplot(x=traincsv[\"Response\"], order=[1,2,3,4,5,6,7,8], ax=axis1)"
   ]
  },
  {
   "cell_type": "code",
   "execution_count": 14,
   "metadata": {
    "collapsed": false
   },
   "outputs": [
    {
     "name": "stdout",
     "output_type": "stream",
     "text": [
      "             Feature \tCount \tPct missing\n",
      "   Employment_Info_1 \t   19  \t0.03%\n",
      "   Employment_Info_4 \t 6779  \t11.42%\n",
      "   Employment_Info_6 \t10854  \t18.28%\n",
      " Insurance_History_5 \t25396  \t42.77%\n",
      "       Family_Hist_2 \t28656  \t48.26%\n",
      "       Family_Hist_3 \t34241  \t57.66%\n",
      "       Family_Hist_4 \t19184  \t32.31%\n",
      "       Family_Hist_5 \t41811  \t70.41%\n",
      "   Medical_History_1 \t 8889  \t14.97%\n",
      "  Medical_History_10 \t58824  \t99.06%\n",
      "  Medical_History_15 \t44596  \t75.10%\n",
      "  Medical_History_24 \t55580  \t93.60%\n",
      "  Medical_History_32 \t58274  \t98.14%\n"
     ]
    }
   ],
   "source": [
    "## We want to list features with missing values from the train set. These columns show there are numerous amount of columns with null values  \n",
    "\n",
    "print(\"%20s \\tCount \\tPct missing\" % 'Feature')\n",
    "for column_name, column in traincsv.transpose().iterrows():\n",
    "    naCount = sum(column.isnull())\n",
    "    if naCount > 0:\n",
    "       #print column_name, naCount, \"Percent missing: %f%%\" % 100.*naCount/traincsv.shape[0]\n",
    "       print(\"%20s \\t%5d  \\t%2.2f%%\" % (column_name, naCount, 100.*naCount/traincsv.shape[0]))"
   ]
  },
  {
   "cell_type": "code",
   "execution_count": 15,
   "metadata": {
    "collapsed": true
   },
   "outputs": [],
   "source": [
    "# There are some columns with non-numerical values(i.e. dtype='object'),\n",
    "# So, We will create a corresponding unique numerical value for each non-numerical value in a column of training and testing set.\n",
    "# import preprocessing from sklearn to get unique numerical values for NaN values on column\n",
    "\n",
    "from sklearn import preprocessing\n",
    "\n",
    "for f in traincsv.columns:\n",
    "    if traincsv[f].dtype == 'object':\n",
    "        lbl = preprocessing.LabelEncoder()\n",
    "        lbl.fit(np.unique(list(traincsv[f].values) + list(testcsv[f].values)))\n",
    "        traincsv[f] = lbl.transform(list(traincsv[f].values))\n",
    "        testcsv[f]       = lbl.transform(list(testcsv[f].values))"
   ]
  },
  {
   "cell_type": "code",
   "execution_count": 16,
   "metadata": {
    "collapsed": false
   },
   "outputs": [],
   "source": [
    "# fill NaN values replace the nan with 0 for those in the response column getting nan corresponding to the train set\n",
    "\n",
    "for f in traincsv.columns:\n",
    "    if f == \"Response\": continue\n",
    "    if traincsv[f].dtype == 'float64':\n",
    "        traincsv[f].fillna(traincsv[f].mean(), inplace=True)\n",
    "        testcsv[f].fillna(testcsv[f].mean(), inplace=True)\n",
    "    else:\n",
    "        traincsv[f].fillna(traincsv[f].median(), inplace=True)\n",
    "        testcsv[f].fillna(testcsv[f].median(), inplace=True)\n",
    "\n",
    "# prudential_df.fillna(0, inplace=True)\n",
    "# test_df.fillna(0, inplace=True)"
   ]
  },
  {
   "cell_type": "code",
   "execution_count": 17,
   "metadata": {
    "collapsed": false
   },
   "outputs": [],
   "source": [
    "# create a X and Y train set for the response data indicated\n",
    "\n",
    "X_train = traincsv.drop([\"Response\", \"Id\"],axis=1)\n",
    "Y_train = traincsv[\"Response\"]\n",
    "X_test  = testcsv.drop(\"Id\",axis=1).copy()"
   ]
  },
  {
   "cell_type": "code",
   "execution_count": 18,
   "metadata": {
    "collapsed": true
   },
   "outputs": [],
   "source": [
    "# reading the response column for 0-7 instead of 1-8 want to set another prediction\n",
    "Y_train = Y_train - 1"
   ]
  },
  {
   "cell_type": "code",
   "execution_count": 28,
   "metadata": {
    "collapsed": false
   },
   "outputs": [
    {
     "data": {
      "text/plain": [
       "0        7\n",
       "1        3\n",
       "2        7\n",
       "3        7\n",
       "4        7\n",
       "5        7\n",
       "6        7\n",
       "7        0\n",
       "8        7\n",
       "9        0\n",
       "10       5\n",
       "11       1\n",
       "12       6\n",
       "13       2\n",
       "14       7\n",
       "15       4\n",
       "16       7\n",
       "17       6\n",
       "18       1\n",
       "19       7\n",
       "20       7\n",
       "21       4\n",
       "22       4\n",
       "23       7\n",
       "24       5\n",
       "25       7\n",
       "26       5\n",
       "27       7\n",
       "28       6\n",
       "29       5\n",
       "        ..\n",
       "59351    4\n",
       "59352    5\n",
       "59353    5\n",
       "59354    5\n",
       "59355    5\n",
       "59356    5\n",
       "59357    5\n",
       "59358    5\n",
       "59359    5\n",
       "59360    4\n",
       "59361    1\n",
       "59362    6\n",
       "59363    5\n",
       "59364    0\n",
       "59365    4\n",
       "59366    7\n",
       "59367    5\n",
       "59368    7\n",
       "59369    1\n",
       "59370    3\n",
       "59371    5\n",
       "59372    1\n",
       "59373    7\n",
       "59374    6\n",
       "59375    7\n",
       "59376    3\n",
       "59377    6\n",
       "59378    7\n",
       "59379    7\n",
       "59380    6\n",
       "Name: Response, dtype: int64"
      ]
     },
     "execution_count": 28,
     "metadata": {},
     "output_type": "execute_result"
    }
   ],
   "source": [
    "# response figures for Y_train for values from 0-7 so that means 1 maps to 0 and 8 mapes to 7\n",
    "Y_train"
   ]
  },
  {
   "cell_type": "raw",
   "metadata": {},
   "source": [
    "In addition to the response count, I want to plot histogram data based on the response as the X column and y being the other columns such as BMI weight, employment status, etc\n"
   ]
  },
  {
   "cell_type": "code",
   "execution_count": 19,
   "metadata": {
    "collapsed": false
   },
   "outputs": [
    {
     "data": {
      "text/plain": [
       "<matplotlib.text.Text at 0x21cba748>"
      ]
     },
     "execution_count": 19,
     "metadata": {},
     "output_type": "execute_result"
    },
    {
     "data": {
      "image/png": "[encoded data removed]",
      "text/plain": [
       "<matplotlib.figure.Figure at 0x21d58710>"
      ]
     },
     "metadata": {},
     "output_type": "display_data"
    }
   ],
   "source": [
    "# Influence of BMI on risk level off the train set, give out histogram results\n",
    "data = []\n",
    "for i in range(1,9): \n",
    "    data.append(traincsv.BMI[traincsv.Response == i])\n",
    "plt.figure(figsize = (15,8))\n",
    "plt.subplot(2,2,1)\n",
    "plt.boxplot(data)\n",
    "plt.title('Response VS BMI')\n",
    "\n",
    "data = []\n",
    "for i in range(1,9): \n",
    "    data.append(traincsv.Ins_Age[traincsv.Response == i])\n",
    "plt.subplot(2,2,2)\n",
    "plt.boxplot(data)\n",
    "plt.title('Response VS Ins_Age')\n",
    "\n",
    "data = []\n",
    "for i in range(1,9): \n",
    "    data.append(traincsv.Wt[traincsv.Response == i])\n",
    "plt.subplot(2,2,3)\n",
    "plt.boxplot(data)\n",
    "plt.title('Response VS weight')\n",
    "\n",
    "data = []\n",
    "for i in range(1,8): \n",
    "    data.append(traincsv.Ht[traincsv.Response == i])\n",
    "plt.subplot(2,2,4)\n",
    "plt.boxplot(data)\n",
    "plt.title('Response VS height')"
   ]
  },
  {
   "cell_type": "code",
   "execution_count": null,
   "metadata": {
    "collapsed": true
   },
   "outputs": [],
   "source": [
    "# create a X and Y train set for the response data indicated\n",
    "\n",
    "X_train = traincsv.drop([\"Response\", \"Id\"],axis=1)\n",
    "Y_train = traincsv[\"Response\"]\n",
    "X_test  = testcsv.drop(\"Id\",axis=1).copy()"
   ]
  },
  {
   "cell_type": "code",
   "execution_count": null,
   "metadata": {
    "collapsed": true
   },
   "outputs": [],
   "source": [
    "\n",
    "\n",
    "#ExtraTreesClassifier. Using the Extra Trees Classifier as and exable of cleaning more data out using n_estimators\n",
    "from sklearn.ensemble import ExtraTreesClassifier\n",
    "etc = ExtraTreesClassifier(n_estimators=100)\n",
    "etc.fit(X_train,Y_train)\n",
    "Y_test = etc.predict(X_test)\n",
    "etc.score(X_train,Y_train)\n"
   ]
  },
  {
   "cell_type": "code",
   "execution_count": 32,
   "metadata": {
    "collapsed": false
   },
   "outputs": [
    {
     "data": {
      "text/plain": [
       "1.0"
      ]
     },
     "execution_count": 32,
     "metadata": {},
     "output_type": "execute_result"
    }
   ],
   "source": [
    "# Random Forests. have to modify code up there. Already have train and test sets above\n",
    "\n",
    "random_forest = RandomForestClassifier(n_estimators=100)\n",
    "\n",
    "random_forest.fit(X_train, Y_train)\n",
    "\n",
    "Y_pred2 = random_forest.predict(X_test)\n",
    "\n",
    "random_forest.score(X_train, Y_train)"
   ]
  },
  {
   "cell_type": "code",
   "execution_count": 39,
   "metadata": {
    "collapsed": true
   },
   "outputs": [],
   "source": [
    "clf = RandomForestClassifier(n_estimators = 100, max_features = 'sqrt', max_depth = 9, verbose = 1, n_jobs = -1)"
   ]
  },
  {
   "cell_type": "raw",
   "metadata": {},
   "source": [
    "Attempting to use the Quadratic Kappa function which is use for the scoring mertic. For this one there is code snippets below to predict the response from the data above"
   ]
  },
  {
   "cell_type": "code",
   "execution_count": 44,
   "metadata": {
    "collapsed": false
   },
   "outputs": [],
   "source": [
    "# using the kappa function from a scifit learn function for quadratic weighted kappa which if used for scoring \n",
    "def kappa(y_true, y_pred, weights=None, allow_off_by_one=False):\n",
    "    \"\"\"\n",
    "    Calculates the kappa inter-rater agreement between two the gold standard\n",
    "    and the predicted ratings. Potential values range from -1 (representing\n",
    "    complete disagreement) to 1 (representing complete agreement).  A kappa\n",
    "    value of 0 is expected if all agreement is due to chance.\n",
    "    In the course of calculating kappa, all items in `y_true` and `y_pred` will\n",
    "    first be converted to floats and then rounded to integers.\n",
    "    It is assumed that y_true and y_pred contain the complete range of possible\n",
    "    ratings.\n",
    "    This function contains a combination of code from yorchopolis's kappa-stats\n",
    "    and Ben Hamner's Metrics projects on Github.\n",
    "    :param y_true: The true/actual/gold labels for the data.\n",
    "    :type y_true: array-like of float\n",
    "    :param y_pred: The predicted/observed labels for the data.\n",
    "    :type y_pred: array-like of float\n",
    "    :param weights: Specifies the weight matrix for the calculation.\n",
    "                    Options are:\n",
    "                        -  None = unweighted-kappa\n",
    "                        -  'quadratic' = quadratic-weighted kappa\n",
    "                        -  'linear' = linear-weighted kappa\n",
    "                        -  two-dimensional numpy array = a custom matrix of\n",
    "                           weights. Each weight corresponds to the\n",
    "                           :math:`w_{ij}` values in the wikipedia description\n",
    "                           of how to calculate weighted Cohen's kappa.\n",
    "    :type weights: str or numpy array\n",
    "    :param allow_off_by_one: If true, ratings that are off by one are counted as\n",
    "                             equal, and all other differences are reduced by\n",
    "                             one. For example, 1 and 2 will be considered to be\n",
    "                             equal, whereas 1 and 3 will have a difference of 1\n",
    "                             for when building the weights matrix.\n",
    "    :type allow_off_by_one: bool\n",
    "    \"\"\"\n",
    "    logger = logging.getLogger(__name__)\n",
    "    # Ensure that the lists are both the same length\n",
    "    assert(len(y_true) == len(y_pred))\n",
    "    # This rather crazy looking typecast is intended to work as follows:\n",
    "    # If an input is an int, the operations will have no effect.\n",
    "    # If it is a float, it will be rounded and then converted to an int\n",
    "    # because the ml_metrics package requires ints.\n",
    "    # If it is a str like \"1\", then it will be converted to a (rounded) int.\n",
    "    # If it is a str that can't be typecast, then the user is\n",
    "    # given a hopefully useful error message.\n",
    "    # Note: numpy and python 3.3 use bankers' rounding.\n",
    "    try:\n",
    "        y_true = [int(np.round(float(y))) for y in y_true]\n",
    "        y_pred = [int(np.round(float(y))) for y in y_pred]\n",
    "    except ValueError as e:\n",
    "        logger.error(\"For kappa, the labels should be integers or strings \"\n",
    "                     \"that can be converted to ints (E.g., '4.0' or '3').\")\n",
    "        raise e\n",
    "    # Figure out normalized expected values\n",
    "    min_rating = min(min(y_true), min(y_pred))\n",
    "    max_rating = max(max(y_true), max(y_pred))\n",
    "    # shift the values so that the lowest value is 0\n",
    "    # (to support scales that include negative values)\n",
    "    y_true = [y - min_rating for y in y_true]\n",
    "    y_pred = [y - min_rating for y in y_pred]\n",
    "    # Build the observed/confusion matrix\n",
    "    num_ratings = max_rating - min_rating + 1\n",
    "    observed = confusion_matrix(y_true, y_pred,\n",
    "                                labels=list(range(num_ratings)))\n",
    "    num_scored_items = float(len(y_true))\n",
    "    # Build weight array if weren't passed one\n",
    "    if isinstance(weights, string_types):\n",
    "        wt_scheme = weights\n",
    "        weights = None\n",
    "    else:\n",
    "        wt_scheme = ''\n",
    "    if weights is None:\n",
    "        weights = np.empty((num_ratings, num_ratings))\n",
    "        for i in range(num_ratings):\n",
    "            for j in range(num_ratings):\n",
    "                diff = abs(i - j)\n",
    "                if allow_off_by_one and diff:\n",
    "                    diff -= 1\n",
    "                if wt_scheme == 'linear':\n",
    "                    weights[i, j] = diff\n",
    "                elif wt_scheme == 'quadratic':\n",
    "                    weights[i, j] = diff ** 2\n",
    "                elif not wt_scheme:  # unweighted\n",
    "                    weights[i, j] = bool(diff)\n",
    "                else:\n",
    "                    raise ValueError('Invalid weight scheme specified for '\n",
    "                                     'kappa: {}'.format(wt_scheme))\n",
    "    hist_true = np.bincount(y_true, minlength=num_ratings)\n",
    "    hist_true = hist_true[: num_ratings] / num_scored_items\n",
    "    hist_pred = np.bincount(y_pred, minlength=num_ratings)\n",
    "    hist_pred = hist_pred[: num_ratings] / num_scored_items\n",
    "    expected = np.outer(hist_true, hist_pred)\n",
    "    # Normalize observed array\n",
    "    observed = observed / num_scored_items\n",
    "    # If all weights are zero, that means no disagreements matter.\n",
    "    k = 1.0\n",
    "    if np.count_nonzero(weights):\n",
    "        k -= (sum(sum(weights * observed)) / sum(sum(weights * expected)))\n",
    "    return k\n"
   ]
  },
  {
   "cell_type": "code",
   "execution_count": 49,
   "metadata": {
    "collapsed": false
   },
   "outputs": [
    {
     "name": "stderr",
     "output_type": "stream",
     "text": [
      "[Parallel(n_jobs=-1)]: Done  42 tasks      | elapsed:    2.8s\n",
      "[Parallel(n_jobs=-1)]: Done 100 out of 100 | elapsed:    5.2s finished\n"
     ]
    },
    {
     "data": {
      "text/plain": [
       "RandomForestClassifier(bootstrap=True, class_weight=None, criterion='gini',\n",
       "            max_depth=9, max_features='sqrt', max_leaf_nodes=None,\n",
       "            min_samples_leaf=1, min_samples_split=2,\n",
       "            min_weight_fraction_leaf=0.0, n_estimators=100, n_jobs=-1,\n",
       "            oob_score=False, random_state=None, verbose=1,\n",
       "            warm_start=False)"
      ]
     },
     "execution_count": 49,
     "metadata": {},
     "output_type": "execute_result"
    }
   ],
   "source": [
    "clf.fit(X_train, Y_train)"
   ]
  },
  {
   "cell_type": "code",
   "execution_count": 50,
   "metadata": {
    "collapsed": false
   },
   "outputs": [
    {
     "name": "stderr",
     "output_type": "stream",
     "text": [
      "[Parallel(n_jobs=4)]: Done  42 tasks      | elapsed:    0.2s\n",
      "[Parallel(n_jobs=4)]: Done 100 out of 100 | elapsed:    0.5s finished\n"
     ]
    },
    {
     "name": "stdout",
     "output_type": "stream",
     "text": [
      "Making predictions...\n"
     ]
    }
   ],
   "source": [
    "print (\"Making predictions...\")\n",
    "pred = clf.predict(X_test)\n",
    "predClipped = np.clip(np.round(pred), 1, 8).astype(int)"
   ]
  },
  {
   "cell_type": "code",
   "execution_count": 51,
   "metadata": {
    "collapsed": true
   },
   "outputs": [],
   "source": [
    "### submit this to kaggle when finished. they need to use the quadratic kappa metric to use the comparison between response and predicted response \n",
    "\n",
    "\n",
    "submission = pd.read_csv('C:\\\\Users\\\\rs\\\\Desktop\\\\prudential\\\\sample_submission\\\\sample_submission.csv')\n",
    "submission[\"Response\"] = predClipped\n",
    "submission.to_csv('NNSubmission.csv', index=False)"
   ]
  },
  {
   "cell_type": "raw",
   "metadata": {
    "collapsed": true
   },
   "source": [
    "I am still working on the scoring metric for the Kaggle project since I am going to sumbit to Kaggle which is due less than a month from today. What needs to be added is additional metrics and cleaning more data out "
   ]
  },
  {
   "cell_type": "code",
   "execution_count": null,
   "metadata": {
    "collapsed": true
   },
   "outputs": [],
   "source": []
  }
 ],
 "metadata": {
  "kernelspec": {
   "display_name": "Python 2",
   "language": "python",
   "name": "python2"
  },
  "language_info": {
   "codemirror_mode": {
    "name": "ipython",
    "version": 2
   },
   "file_extension": ".py",
   "mimetype": "text/x-python",
   "name": "python",
   "nbconvert_exporter": "python",
   "pygments_lexer": "ipython2",
   "version": "2.7.10"
  }
 },
 "nbformat": 4,
 "nbformat_minor": 0
}
